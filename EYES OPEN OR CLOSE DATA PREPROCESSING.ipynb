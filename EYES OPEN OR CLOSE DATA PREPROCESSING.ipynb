{
 "cells": [
  {
   "cell_type": "markdown",
   "id": "d2493128",
   "metadata": {},
   "source": [
    "#### CREATE DATAFRAME OF DATA"
   ]
  },
  {
   "cell_type": "code",
   "execution_count": 5,
   "id": "251edd1b",
   "metadata": {},
   "outputs": [
    {
     "data": {
      "text/plain": [
       "'\\nimport tensorflow as tf\\nfrom tensorflow.keras.callbacks import EarlyStopping\\nfrom tensorflow.keras.applications.mobilenet import MobileNet\\nfrom tensorflow.keras.layers import Dense,Flatten\\nfrom tensorflow.keras.models import Model\\n'"
      ]
     },
     "execution_count": 5,
     "metadata": {},
     "output_type": "execute_result"
    }
   ],
   "source": [
    "import os\n",
    "import cv2\n",
    "from tqdm import tqdm\n",
    "import pandas as pd\n",
    "import numpy as np\n",
    "import matplotlib.pyplot as plt\n",
    "import seaborn as sns\n",
    "from tensorflow.keras.models import load_model"
   ]
  },
  {
   "cell_type": "markdown",
   "id": "3212becf",
   "metadata": {},
   "source": [
    "#### CREATE A DATAFRAME OF FILEPATH AND LABELS"
   ]
  },
  {
   "cell_type": "code",
   "execution_count": 14,
   "id": "b2ecfb1a",
   "metadata": {},
   "outputs": [],
   "source": [
    "def read_training_data():\n",
    "    training_data = []\n",
    "    folders_to_read = [x for x in range(1,36)]\n",
    "    folders_to_read.remove(19)\n",
    "    for folder in tqdm(folders_to_read):\n",
    "        path = 'D:/DATA SCIENCE/Kaggle Datasets/Drowsyness Detection/mrlEyes_2018_01/mrlEyes_2018_01/S00'\n",
    "        if folder > 9:\n",
    "            placeholder = \"\"\n",
    "        else:\n",
    "            placeholder = \"0\"\n",
    "\n",
    "        # formatted path\n",
    "        path = path + placeholder + str(folder) + \"/\"\n",
    "        for image in os.listdir(path):\n",
    "            label = int(image.split(\"_\")[4])\n",
    "            img = cv2.imread(os.path.join(path,image))\n",
    "            img = cv2.resize(img,(100,100))\n",
    "            img = cv2.cvtColor(img,cv2.COLOR_BGR2GRAY)\n",
    "            training_data.append([img,label])\n",
    "            \n",
    "    return training_data"
   ]
  },
  {
   "cell_type": "code",
   "execution_count": 15,
   "id": "7a0daf74",
   "metadata": {
    "scrolled": true
   },
   "outputs": [
    {
     "name": "stderr",
     "output_type": "stream",
     "text": [
      "100%|██████████████████████████████████████████████████████████████████████████████████| 34/34 [05:28<00:00,  9.65s/it]\n"
     ]
    }
   ],
   "source": [
    "training_data = read_training_data()"
   ]
  },
  {
   "cell_type": "code",
   "execution_count": 16,
   "id": "9087d2f4",
   "metadata": {},
   "outputs": [],
   "source": [
    "import random\n",
    "random.shuffle(training_data)"
   ]
  },
  {
   "cell_type": "code",
   "execution_count": 17,
   "id": "43cdd69f",
   "metadata": {},
   "outputs": [],
   "source": [
    "X = []\n",
    "Y = []\n",
    "\n",
    "for x,y in training_data:\n",
    "    X.append(x)\n",
    "    Y.append(y)\n",
    "    \n",
    "del training_data\n",
    "\n",
    "X = np.array(X)\n",
    "Y = np.array(Y)"
   ]
  },
  {
   "cell_type": "code",
   "execution_count": 18,
   "id": "10e79b2f",
   "metadata": {},
   "outputs": [
    {
     "name": "stdout",
     "output_type": "stream",
     "text": [
      "(62273, 100, 100)\n",
      "(62273,)\n"
     ]
    }
   ],
   "source": [
    "print(X.shape)\n",
    "print(Y.shape)"
   ]
  },
  {
   "cell_type": "code",
   "execution_count": 19,
   "id": "e7dda3fb",
   "metadata": {},
   "outputs": [],
   "source": [
    "Y = Y.reshape((-1,1))"
   ]
  },
  {
   "cell_type": "markdown",
   "id": "1e22025e",
   "metadata": {},
   "source": [
    "#### CHECK IF IMBALANCE"
   ]
  },
  {
   "cell_type": "code",
   "execution_count": 20,
   "id": "9570dbdb",
   "metadata": {},
   "outputs": [],
   "source": [
    "y = pd.DataFrame(Y)"
   ]
  },
  {
   "cell_type": "code",
   "execution_count": 21,
   "id": "202962c7",
   "metadata": {},
   "outputs": [
    {
     "data": {
      "text/plain": [
       "1    31350\n",
       "0    30923\n",
       "dtype: int64"
      ]
     },
     "execution_count": 21,
     "metadata": {},
     "output_type": "execute_result"
    }
   ],
   "source": [
    "y.value_counts()"
   ]
  },
  {
   "cell_type": "code",
   "execution_count": 23,
   "id": "337fe907",
   "metadata": {},
   "outputs": [],
   "source": [
    "np.save(\"eyes_data_train.npy\",X)\n",
    "np.save(\"eyes_labels_train.npy\",Y)"
   ]
  },
  {
   "cell_type": "markdown",
   "id": "25c80799",
   "metadata": {},
   "source": [
    "###### CREATING TEST SET"
   ]
  },
  {
   "cell_type": "code",
   "execution_count": 24,
   "id": "12effdcb",
   "metadata": {},
   "outputs": [],
   "source": [
    "del X,Y"
   ]
  },
  {
   "cell_type": "code",
   "execution_count": 26,
   "id": "46e372ac",
   "metadata": {
    "scrolled": true
   },
   "outputs": [
    {
     "name": "stderr",
     "output_type": "stream",
     "text": [
      "100%|████████████████████████████████████████████████████████████████████████████████████| 2/2 [01:00<00:00, 30.44s/it]\n"
     ]
    }
   ],
   "source": [
    "training_data = []\n",
    "\n",
    "#19,36,22\n",
    "for folder in tqdm([19,36]):\n",
    "    path = 'D:/DATA SCIENCE/Kaggle Datasets/Drowsyness Detection/mrlEyes_2018_01/mrlEyes_2018_01/S00'+str(folder)+\"/\"\n",
    "    for image in os.listdir(path):\n",
    "        label = int(image.split(\"_\")[4])\n",
    "        img = cv2.imread(os.path.join(path,image))\n",
    "        img = cv2.resize(img,(100,100))\n",
    "        img = cv2.cvtColor(img,cv2.COLOR_BGR2GRAY)\n",
    "        training_data.append([img,label])"
   ]
  },
  {
   "cell_type": "code",
   "execution_count": 27,
   "id": "b12dc6d3",
   "metadata": {},
   "outputs": [],
   "source": [
    "import random\n",
    "random.shuffle(training_data)"
   ]
  },
  {
   "cell_type": "code",
   "execution_count": 28,
   "id": "d6d05987",
   "metadata": {},
   "outputs": [],
   "source": [
    "X = []\n",
    "Y = []\n",
    "\n",
    "\n",
    "for x,y in training_data:\n",
    "    Y.append(y)\n",
    "    X.append(x)\n",
    "        \n",
    "del training_data\n",
    "X = np.array(X)\n",
    "Y = np.array(Y).reshape((-1,1))"
   ]
  },
  {
   "cell_type": "code",
   "execution_count": 29,
   "id": "59521d8a",
   "metadata": {},
   "outputs": [
    {
     "data": {
      "text/plain": [
       "(12368, 100, 100)"
      ]
     },
     "execution_count": 29,
     "metadata": {},
     "output_type": "execute_result"
    }
   ],
   "source": [
    "X.shape"
   ]
  },
  {
   "cell_type": "code",
   "execution_count": 30,
   "id": "10fd5fee",
   "metadata": {},
   "outputs": [
    {
     "data": {
      "text/plain": [
       "(12368, 1)"
      ]
     },
     "execution_count": 30,
     "metadata": {},
     "output_type": "execute_result"
    }
   ],
   "source": [
    "Y.shape"
   ]
  },
  {
   "cell_type": "code",
   "execution_count": 31,
   "id": "85ba6993",
   "metadata": {},
   "outputs": [],
   "source": [
    "np.save(\"eyes_data_test.npy\",X)\n",
    "np.save(\"eyes_labels_test.npy\",Y)"
   ]
  },
  {
   "cell_type": "code",
   "execution_count": null,
   "id": "d6a46d5a",
   "metadata": {},
   "outputs": [],
   "source": []
  }
 ],
 "metadata": {
  "kernelspec": {
   "display_name": "Python 3 (ipykernel)",
   "language": "python",
   "name": "python3"
  },
  "language_info": {
   "codemirror_mode": {
    "name": "ipython",
    "version": 3
   },
   "file_extension": ".py",
   "mimetype": "text/x-python",
   "name": "python",
   "nbconvert_exporter": "python",
   "pygments_lexer": "ipython3",
   "version": "3.9.6"
  }
 },
 "nbformat": 4,
 "nbformat_minor": 5
}

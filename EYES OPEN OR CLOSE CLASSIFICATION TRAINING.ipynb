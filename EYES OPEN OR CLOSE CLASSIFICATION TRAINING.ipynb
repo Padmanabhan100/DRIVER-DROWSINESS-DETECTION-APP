{
 "cells": [
  {
   "cell_type": "code",
   "execution_count": 6,
   "id": "75f0972b",
   "metadata": {},
   "outputs": [],
   "source": [
    "from tensorflow.keras.models import Sequential,load_model\n",
    "from tensorflow.keras.layers import Conv2D,MaxPool2D,Flatten,Dense\n",
    "import numpy as np"
   ]
  },
  {
   "cell_type": "code",
   "execution_count": 3,
   "id": "7adc29f0",
   "metadata": {},
   "outputs": [
    {
     "name": "stdout",
     "output_type": "stream",
     "text": [
      "Epoch 1/3\n",
      "1557/1557 [==============================] - 360s 231ms/step - loss: 0.2547 - accuracy: 0.9045 - val_loss: 0.1490 - val_accuracy: 0.9436\n",
      "Epoch 2/3\n",
      "1557/1557 [==============================] - 348s 224ms/step - loss: 0.1309 - accuracy: 0.9534 - val_loss: 0.1004 - val_accuracy: 0.9646\n",
      "Epoch 3/3\n",
      "1557/1557 [==============================] - 349s 224ms/step - loss: 0.1121 - accuracy: 0.9600 - val_loss: 0.0886 - val_accuracy: 0.9692\n",
      "INFO:tensorflow:Assets written to: Models/eye_status_model2\\assets\n"
     ]
    }
   ],
   "source": [
    "# Loading Training Data\n",
    "X_train = np.load(\"C:/Users/paddy/Python/Deep Learning/eyes_data_train.npy\")\n",
    "Y_train = np.load(\"C:/Users/paddy/Python/Deep Learning/eyes_labels_train.npy\")\n",
    "\n",
    "# Loading Testing Data\n",
    "X_test = np.load(\"C:/Users/paddy/Python/Deep Learning/eyes_data_test.npy\")\n",
    "Y_test = np.load(\"C:/Users/paddy/Python/Deep Learning/eyes_labels_test.npy\")\n",
    "\n",
    "\n",
    "# Creating Model\n",
    "model = Sequential()\n",
    "# Conv2D layer\n",
    "model.add(Conv2D(filters=128,kernel_size=(3,3),activation='relu',input_shape=(100,100,1)))\n",
    "# Max Pool\n",
    "model.add(MaxPool2D(pool_size=(3,3)))\n",
    "# Conv2D layer\n",
    "model.add(Conv2D(filters=64,kernel_size=(3,3),activation='relu'))\n",
    "# Max Pool\n",
    "model.add(MaxPool2D(pool_size=(3,3)))\n",
    "# Conv2D layer\n",
    "model.add(Conv2D(filters=32,kernel_size=(3,3),activation='relu'))\n",
    "# Max Pool\n",
    "model.add(MaxPool2D(pool_size=(3,3)))\n",
    "# Flatten Layer\n",
    "model.add(Flatten())\n",
    "# Dense Layers\n",
    "model.add(Dense(units=64,activation='elu'))\n",
    "# Dense Layers\n",
    "model.add(Dense(units=32,activation='elu'))\n",
    "# Dense Layers\n",
    "model.add(Dense(units=1,activation='sigmoid'))\n",
    "\n",
    "\n",
    "model.compile('adam','binary_crossentropy',['accuracy'])\n",
    "\n",
    "model.fit(X_train,Y_train,batch_size=32,epochs=3,validation_split=0.2)\n",
    "\n",
    "model.save(\"D:\\DATA SCIENCE\\Projects\\DrowsinessDetection\\Models\\eye_status_model2\")"
   ]
  },
  {
   "cell_type": "markdown",
   "id": "cfc955e2",
   "metadata": {},
   "source": [
    "#### LOAD MODEL"
   ]
  },
  {
   "cell_type": "code",
   "execution_count": 9,
   "id": "dabb3341",
   "metadata": {},
   "outputs": [],
   "source": [
    "model2 = load_model(\"D:\\DATA SCIENCE\\Projects\\DrowsinessDetection\\Models\\eye_status_model2\")"
   ]
  },
  {
   "cell_type": "code",
   "execution_count": 10,
   "id": "a6cf451c",
   "metadata": {},
   "outputs": [
    {
     "name": "stdout",
     "output_type": "stream",
     "text": [
      "Model: \"sequential_1\"\n",
      "_________________________________________________________________\n",
      " Layer (type)                Output Shape              Param #   \n",
      "=================================================================\n",
      " conv2d_1 (Conv2D)           (None, 98, 98, 128)       1280      \n",
      "                                                                 \n",
      " max_pooling2d (MaxPooling2D  (None, 32, 32, 128)      0         \n",
      " )                                                               \n",
      "                                                                 \n",
      " conv2d_2 (Conv2D)           (None, 30, 30, 64)        73792     \n",
      "                                                                 \n",
      " max_pooling2d_1 (MaxPooling  (None, 10, 10, 64)       0         \n",
      " 2D)                                                             \n",
      "                                                                 \n",
      " conv2d_3 (Conv2D)           (None, 8, 8, 32)          18464     \n",
      "                                                                 \n",
      " max_pooling2d_2 (MaxPooling  (None, 2, 2, 32)         0         \n",
      " 2D)                                                             \n",
      "                                                                 \n",
      " flatten (Flatten)           (None, 128)               0         \n",
      "                                                                 \n",
      " dense (Dense)               (None, 64)                8256      \n",
      "                                                                 \n",
      " dense_1 (Dense)             (None, 32)                2080      \n",
      "                                                                 \n",
      " dense_2 (Dense)             (None, 1)                 33        \n",
      "                                                                 \n",
      "=================================================================\n",
      "Total params: 103,905\n",
      "Trainable params: 103,905\n",
      "Non-trainable params: 0\n",
      "_________________________________________________________________\n"
     ]
    }
   ],
   "source": [
    "model2.summary()"
   ]
  },
  {
   "cell_type": "markdown",
   "id": "2468d838",
   "metadata": {},
   "source": [
    "#### METRICS ON TEST"
   ]
  },
  {
   "cell_type": "code",
   "execution_count": 11,
   "id": "5d4e7418",
   "metadata": {},
   "outputs": [],
   "source": [
    "from sklearn.metrics import classification_report,confusion_matrix"
   ]
  },
  {
   "cell_type": "code",
   "execution_count": 12,
   "id": "5e642b75",
   "metadata": {},
   "outputs": [],
   "source": [
    "Y_pred = model.predict(X_test)"
   ]
  },
  {
   "cell_type": "code",
   "execution_count": 13,
   "id": "4d56d308",
   "metadata": {},
   "outputs": [
    {
     "data": {
      "text/plain": [
       "(12368, 100, 100)"
      ]
     },
     "execution_count": 13,
     "metadata": {},
     "output_type": "execute_result"
    }
   ],
   "source": [
    "X_test.shape"
   ]
  },
  {
   "cell_type": "code",
   "execution_count": 25,
   "id": "ee01087b",
   "metadata": {},
   "outputs": [],
   "source": [
    "Y_pred_coded = []\n",
    "\n",
    "for pred in Y_pred:\n",
    "    if pred>=0.75:\n",
    "        Y_pred_coded.append(1)\n",
    "    else:\n",
    "        Y_pred_coded.append(0)"
   ]
  },
  {
   "cell_type": "code",
   "execution_count": 26,
   "id": "ee7c1757",
   "metadata": {},
   "outputs": [
    {
     "name": "stdout",
     "output_type": "stream",
     "text": [
      "              precision    recall  f1-score   support\n",
      "\n",
      "           0       0.95      0.95      0.95      5003\n",
      "           1       0.96      0.97      0.97      7365\n",
      "\n",
      "    accuracy                           0.96     12368\n",
      "   macro avg       0.96      0.96      0.96     12368\n",
      "weighted avg       0.96      0.96      0.96     12368\n",
      "\n"
     ]
    }
   ],
   "source": [
    "print(classification_report(Y_test,Y_pred_coded))"
   ]
  },
  {
   "cell_type": "code",
   "execution_count": 27,
   "id": "0577eb91",
   "metadata": {},
   "outputs": [],
   "source": [
    "import seaborn as sns\n",
    "import matplotlib.pyplot as plt"
   ]
  },
  {
   "cell_type": "code",
   "execution_count": 28,
   "id": "620784b2",
   "metadata": {},
   "outputs": [
    {
     "data": {
      "image/png": "[encoded data removed]",
      "text/plain": [
       "<Figure size 1080x720 with 1 Axes>"
      ]
     },
     "metadata": {},
     "output_type": "display_data"
    }
   ],
   "source": [
    "sns.set_style(\"darkgrid\")\n",
    "plt.figure(figsize=(15,10))\n",
    "ax = sns.heatmap(confusion_matrix(Y_test,Y_pred_coded),annot=True,fmt='d',cbar=False,cmap='cool')\n",
    "ax.set_xticklabels(['Actually Closed','Actually Open'])\n",
    "ax.set_yticklabels(['Predicted Closed','Predicted Cpen'])\n",
    "\n",
    "plt.show()"
   ]
  },
  {
   "cell_type": "code",
   "execution_count": null,
   "id": "04b3d6a3",
   "metadata": {},
   "outputs": [],
   "source": []
  }
 ],
 "metadata": {
  "kernelspec": {
   "display_name": "Python 3 (ipykernel)",
   "language": "python",
   "name": "python3"
  },
  "language_info": {
   "codemirror_mode": {
    "name": "ipython",
    "version": 3
   },
   "file_extension": ".py",
   "mimetype": "text/x-python",
   "name": "python",
   "nbconvert_exporter": "python",
   "pygments_lexer": "ipython3",
   "version": "3.9.6"
  }
 },
 "nbformat": 4,
 "nbformat_minor": 5
}
